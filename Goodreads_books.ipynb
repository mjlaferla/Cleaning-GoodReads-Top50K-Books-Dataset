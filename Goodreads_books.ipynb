{
 "cells": [
  {
   "cell_type": "code",
   "execution_count": 8,
   "metadata": {},
   "outputs": [],
   "source": [
    "import pandas as pd\n",
    "import numpy as np\n",
    "import matplotlib.pyplot as plt\n",
    "import seaborn as sns\n",
    "from langdetect import detect"
   ]
  },
  {
   "cell_type": "code",
   "execution_count": 2,
   "metadata": {},
   "outputs": [],
   "source": [
    "#import dataset\n",
    "df = pd.read_csv(r'C:\\Users\\mitch\\Downloads\\Datasets\\book_data.csv')"
   ]
  },
  {
   "cell_type": "code",
   "execution_count": 3,
   "metadata": {},
   "outputs": [],
   "source": [
    "#clean up the dataset\n",
    "#drop image name and image url as they are not relavant \n",
    "df.drop(columns=['image_name', 'image_url', 'format', 'edition'], axis=1, inplace=True)\n",
    "\n",
    "#rename columns\n",
    "cols = ['authors', 'description', 'isbn', 'page_count', 'rating', \n",
    "        'rating_count', 'review_count', 'title', 'genres']\n",
    "\n",
    "df.columns = cols\n",
    "\n",
    "#reorder columns\n",
    "df = df[['title', 'authors', 'genres', 'description','page_count', \n",
    "         'rating', 'rating_count', 'review_count', 'isbn']]\n",
    "\n",
    "#remove the word pages from page count and convert to a numeric\n",
    "df['page_count'] = df['page_count'].str.replace('pages', '')\n",
    "df['page_count'] = df['page_count'].str.replace('page', '')\n",
    "df['page_count'] = pd.to_numeric(df['page_count'])\n",
    "\n",
    "#replace | with , in genres and authors as the seperator\n",
    "df.genres = df.genres.str.replace('|', ', ')\n",
    "df.authors = df.authors.str.replace('|', ', ')\n",
    "\n",
    "#drop duplicate rows of the same book\n",
    "df.sort_values('review_count', ascending=False, inplace=True)\n",
    "df.drop_duplicates('title', keep='first', inplace=True)"
   ]
  },
  {
   "cell_type": "code",
   "execution_count": 21,
   "metadata": {},
   "outputs": [],
   "source": [
    "#using langdetect to add additional column 'language' that populates the language of the book based on the description\n",
    "for index, row in df['description'].iteritems():\n",
    "    try:\n",
    "        lang = detect(row) #detecting each row\n",
    "        df.loc[index, 'language'] = lang\n",
    "    except:\n",
    "        pass"
   ]
  },
  {
   "cell_type": "code",
   "execution_count": 25,
   "metadata": {},
   "outputs": [],
   "source": [
    "#filter our all non english language texts as most are just foreign versions of books that already exist in the df\n",
    "df = df.loc[df['language'] == 'en']"
   ]
  }
 ],
 "metadata": {
  "kernelspec": {
   "display_name": "Python 3",
   "language": "python",
   "name": "python3"
  },
  "language_info": {
   "codemirror_mode": {
    "name": "ipython",
    "version": 3
   },
   "file_extension": ".py",
   "mimetype": "text/x-python",
   "name": "python",
   "nbconvert_exporter": "python",
   "pygments_lexer": "ipython3",
   "version": "3.7.3"
  }
 },
 "nbformat": 4,
 "nbformat_minor": 2
}
